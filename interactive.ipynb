{
 "cells": [
  {
   "cell_type": "code",
   "execution_count": 1,
   "id": "b977d05e",
   "metadata": {},
   "outputs": [
    {
     "name": "stdout",
     "output_type": "stream",
     "text": [
      "Hi Outskillers\n"
     ]
    }
   ],
   "source": [
    "print(\"Hi Outskillers\")"
   ]
  },
  {
   "cell_type": "code",
   "execution_count": null,
   "id": "d7a268ff",
   "metadata": {},
   "outputs": [],
   "source": []
  },
  {
   "cell_type": "code",
   "execution_count": 2,
   "id": "4bf9b214",
   "metadata": {},
   "outputs": [
    {
     "name": "stdout",
     "output_type": "stream",
     "text": [
      "line1\n",
      "line2\n"
     ]
    }
   ],
   "source": [
    "print('line1')\n",
    "print('line2')\n"
   ]
  },
  {
   "cell_type": "code",
   "execution_count": 3,
   "id": "1d9aa816",
   "metadata": {},
   "outputs": [
    {
     "name": "stdout",
     "output_type": "stream",
     "text": [
      "line3\n",
      "line4\n"
     ]
    }
   ],
   "source": [
    "print('line3')\n",
    "print('line4')"
   ]
  },
  {
   "cell_type": "code",
   "execution_count": null,
   "id": "a41f6758",
   "metadata": {},
   "outputs": [],
   "source": []
  }
 ],
 "metadata": {
  "kernelspec": {
   "display_name": "AI",
   "language": "python",
   "name": "ai"
  },
  "language_info": {
   "codemirror_mode": {
    "name": "ipython",
    "version": 3
   },
   "file_extension": ".py",
   "mimetype": "text/x-python",
   "name": "python",
   "nbconvert_exporter": "python",
   "pygments_lexer": "ipython3",
   "version": "3.11.11"
  }
 },
 "nbformat": 4,
 "nbformat_minor": 5
}
